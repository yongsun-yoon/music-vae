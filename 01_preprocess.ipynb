{
  "nbformat": 4,
  "nbformat_minor": 0,
  "metadata": {
    "colab": {
      "provenance": [],
      "mount_file_id": "13LhQYjpTxWZYMDUVIONXhkBII-jh6HFa",
      "authorship_tag": "ABX9TyPvDJPUm9JhB7Lj+fb1z+Zy",
      "include_colab_link": true
    },
    "kernelspec": {
      "name": "python3",
      "display_name": "Python 3"
    },
    "language_info": {
      "name": "python"
    }
  },
  "cells": [
    {
      "cell_type": "markdown",
      "metadata": {
        "id": "view-in-github",
        "colab_type": "text"
      },
      "source": [
        "<a href=\"https://colab.research.google.com/github/yongsun-yoon/music-vae/blob/main/01_preprocess.ipynb\" target=\"_parent\"><img src=\"https://colab.research.google.com/assets/colab-badge.svg\" alt=\"Open In Colab\"/></a>"
      ]
    },
    {
      "cell_type": "markdown",
      "source": [
        "# Preprocess"
      ],
      "metadata": {
        "id": "jVf5fC8aYz_a"
      }
    },
    {
      "cell_type": "markdown",
      "source": [
        "## 0. 설명\n",
        "MusicVAE는 미디(MIDI) 데이터셋으로 학습합니다. \n",
        "\n",
        "이 코드는 [Groove MIDI Dataset](https://magenta.tensorflow.org/datasets/groove)을 다운로드 후 전처리하는 코드입니다.\n",
        "\n",
        "모든 코드는 Google Colab 환경에서 실행했습니다.\n",
        "\n",
        "### Reference\n",
        "* https://github.com/magenta/magenta/tree/main/magenta/models/music_vae\n",
        "* https://magenta.tensorflow.org/datasets/groove\n",
        "* https://github.com/magenta/magenta/blob/main/magenta/scripts/convert_dir_to_note_sequences.py"
      ],
      "metadata": {
        "id": "zVsZ7PwYY3z2"
      }
    },
    {
      "cell_type": "markdown",
      "source": [
        "## 1. 환경 설정"
      ],
      "metadata": {
        "id": "-JmcU7i6SxTr"
      }
    },
    {
      "cell_type": "code",
      "source": [
        "# 라이브러리 설치\n",
        "!apt-get -qq update -y\n",
        "!apt-get -qq install build-essential libasound2-dev libjack-dev libfluidsynth2 fluid-soundfont-gm -y\n",
        "\n",
        "!pip install -q magenta"
      ],
      "metadata": {
        "id": "8cLPXuwbS84x"
      },
      "execution_count": null,
      "outputs": []
    },
    {
      "cell_type": "code",
      "source": [
        "# 라이브러리 임포트\n",
        "from note_seq import midi_io\n",
        "import tensorflow.compat.v1 as tf\n",
        "\n",
        "tf.disable_v2_behavior()\n",
        "tf.logging.set_verbosity('INFO')"
      ],
      "metadata": {
        "colab": {
          "base_uri": "https://localhost:8080/"
        },
        "id": "QyS5F056T5yP",
        "outputId": "93a56286-147a-4d4d-a639-254b7cb01532"
      },
      "execution_count": null,
      "outputs": [
        {
          "output_type": "stream",
          "name": "stderr",
          "text": [
            "WARNING:tensorflow:From /usr/local/lib/python3.8/dist-packages/tensorflow/python/compat/v2_compat.py:107: disable_resource_variables (from tensorflow.python.ops.variable_scope) is deprecated and will be removed in a future version.\n",
            "Instructions for updating:\n",
            "non-resource variables are not supported in the long term\n"
          ]
        }
      ]
    },
    {
      "cell_type": "code",
      "source": [
        "# 마운트된 Google drive 디렉토리 지정\n",
        "BASE_DIR = '/content/drive/MyDrive/project/pozalabs-assignment'"
      ],
      "metadata": {
        "id": "K4ecErHUSy48"
      },
      "execution_count": null,
      "outputs": []
    },
    {
      "cell_type": "code",
      "source": [
        "# 데이터 디렉토리 생성\n",
        "!mkdir $BASE_DIR/data"
      ],
      "metadata": {
        "id": "qe_WWE0JS05N"
      },
      "execution_count": null,
      "outputs": []
    },
    {
      "cell_type": "markdown",
      "source": [
        "## 2. 데이터 다운로드"
      ],
      "metadata": {
        "id": "o7-kTEBqQweC"
      }
    },
    {
      "cell_type": "code",
      "source": [
        "# 데이터 다운로드\n",
        "!wget https://storage.googleapis.com/magentadata/datasets/groove/groove-v1.0.0-midionly.zip"
      ],
      "metadata": {
        "colab": {
          "base_uri": "https://localhost:8080/"
        },
        "id": "0-pWxL4VRkaY",
        "outputId": "3a0a17b9-e446-49e8-d2ca-fa5afc6a00ea"
      },
      "execution_count": null,
      "outputs": [
        {
          "output_type": "stream",
          "name": "stdout",
          "text": [
            "--2023-01-31 10:05:40--  https://storage.googleapis.com/magentadata/datasets/groove/groove-v1.0.0-midionly.zip\n",
            "Resolving storage.googleapis.com (storage.googleapis.com)... 173.194.213.128, 108.177.11.128, 173.194.216.128, ...\n",
            "Connecting to storage.googleapis.com (storage.googleapis.com)|173.194.213.128|:443... connected.\n",
            "HTTP request sent, awaiting response... 200 OK\n",
            "Length: 3260318 (3.1M) [application/zip]\n",
            "Saving to: ‘groove-v1.0.0-midionly.zip’\n",
            "\n",
            "\r          groove-v1   0%[                    ]       0  --.-KB/s               \rgroove-v1.0.0-midio 100%[===================>]   3.11M  --.-KB/s    in 0.03s   \n",
            "\n",
            "2023-01-31 10:05:40 (108 MB/s) - ‘groove-v1.0.0-midionly.zip’ saved [3260318/3260318]\n",
            "\n"
          ]
        }
      ]
    },
    {
      "cell_type": "code",
      "source": [
        "# 데이터 압축 해제\n",
        "!unzip groove-v1.0.0-midionly.zip -d $BASE_DIR/data"
      ],
      "metadata": {
        "id": "gGTbkxTPR5Uv"
      },
      "execution_count": null,
      "outputs": []
    },
    {
      "cell_type": "code",
      "source": [
        "# 데이터 확인\n",
        "!ls $BASE_DIR/data/groove"
      ],
      "metadata": {
        "colab": {
          "base_uri": "https://localhost:8080/"
        },
        "id": "0EogGqVUSPuu",
        "outputId": "1f0d6996-7b6f-4968-e72a-eb04bede37fd"
      },
      "execution_count": null,
      "outputs": [
        {
          "output_type": "stream",
          "name": "stdout",
          "text": [
            "drummer1   drummer2  drummer4  drummer6  drummer8  Icon      LICENSE\n",
            "drummer10  drummer3  drummer5  drummer7  drummer9  info.csv  README\n"
          ]
        }
      ]
    },
    {
      "cell_type": "markdown",
      "source": [
        "## 3. 데이터 읽기"
      ],
      "metadata": {
        "id": "72ADV2AMSdvx"
      }
    },
    {
      "cell_type": "code",
      "source": [
        "file_path = f'{BASE_DIR}/data/groove/drummer1/session1/1_funk_80_beat_4-4.mid'\n",
        "sequence = midi_io.midi_to_sequence_proto(tf.gfile.GFile(file_path, 'rb').read())"
      ],
      "metadata": {
        "id": "NV23vCYxUDI7"
      },
      "execution_count": null,
      "outputs": []
    },
    {
      "cell_type": "code",
      "source": [
        "# note 수\n",
        "len(sequence.notes)"
      ],
      "metadata": {
        "colab": {
          "base_uri": "https://localhost:8080/"
        },
        "id": "f0Vnmt9XVWHR",
        "outputId": "826833bf-7589-408c-8067-27f10d0fa8f9"
      },
      "execution_count": null,
      "outputs": [
        {
          "output_type": "execute_result",
          "data": {
            "text/plain": [
              "773"
            ]
          },
          "metadata": {},
          "execution_count": 32
        }
      ]
    },
    {
      "cell_type": "code",
      "source": [
        "# note 예시\n",
        "sequence.notes[0]"
      ],
      "metadata": {
        "colab": {
          "base_uri": "https://localhost:8080/"
        },
        "id": "nJYrbk4oU_jW",
        "outputId": "1530ae12-7dc4-4527-f259-42e8acac575f"
      },
      "execution_count": null,
      "outputs": [
        {
          "output_type": "execute_result",
          "data": {
            "text/plain": [
              "pitch: 38\n",
              "velocity: 7\n",
              "start_time: 2.115625\n",
              "end_time: 2.1765625\n",
              "is_drum: true"
            ]
          },
          "metadata": {},
          "execution_count": 30
        }
      ]
    },
    {
      "cell_type": "code",
      "source": [
        "# drum categories\n",
        "set([n.pitch for n in sequence.notes])"
      ],
      "metadata": {
        "colab": {
          "base_uri": "https://localhost:8080/"
        },
        "id": "NtnYIxu7UW5-",
        "outputId": "9008e011-b58a-417d-fd88-e319a9462772"
      },
      "execution_count": null,
      "outputs": [
        {
          "output_type": "execute_result",
          "data": {
            "text/plain": [
              "{26, 36, 37, 38, 40, 42, 43, 44, 46}"
            ]
          },
          "metadata": {},
          "execution_count": 39
        }
      ]
    },
    {
      "cell_type": "code",
      "source": [
        "# serialization\n",
        "sequence.SerializeToString()[:10]"
      ],
      "metadata": {
        "colab": {
          "base_uri": "https://localhost:8080/"
        },
        "id": "KrwoX3zraQoD",
        "outputId": "13501163-62c2-453a-d080-6795bc075240"
      },
      "execution_count": null,
      "outputs": [
        {
          "output_type": "execute_result",
          "data": {
            "text/plain": [
              "b' \\xe0\\x03*\\x04\\x10\\x04\\x18\\x042'"
            ]
          },
          "metadata": {},
          "execution_count": 44
        }
      ]
    },
    {
      "cell_type": "markdown",
      "source": [
        "## 4. 데이터 전처리"
      ],
      "metadata": {
        "id": "kHRY_4myWBZd"
      }
    },
    {
      "cell_type": "code",
      "source": [
        "!convert_dir_to_note_sequences \\\n",
        "    --recursive \\\n",
        "    --input_dir=$BASE_DIR/data/groove \\\n",
        "    --output_file=$BASE_DIR/data/tfrecord \\ "
      ],
      "metadata": {
        "id": "YJNR-uZSXkGO"
      },
      "execution_count": null,
      "outputs": []
    },
    {
      "cell_type": "code",
      "source": [],
      "metadata": {
        "id": "Wa5KcRxJZ2ak"
      },
      "execution_count": null,
      "outputs": []
    }
  ]
}